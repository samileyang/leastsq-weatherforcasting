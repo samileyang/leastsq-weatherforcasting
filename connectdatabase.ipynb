{
 "cells": [
  {
   "cell_type": "code",
   "execution_count": 22,
   "metadata": {
    "scrolled": true
   },
   "outputs": [],
   "source": [
    "import requests\n",
    "from lxml import etree\n",
    "import time\n",
    "import pymysql\n",
    "\n",
    "loc=\"shanghai\"\n",
    "year = 2011\n",
    "odd = [1,3,5,7,8,10,12]\n",
    "even = [4,6,9,11]\n",
    "num = 1\n",
    "for year in range(2012,2016):\n",
    "    for month in range(1,13):\n",
    "        if month in odd:\n",
    "            day = 31\n",
    "        elif month in even:\n",
    "            day = 30\n",
    "        else:\n",
    "            if (year%4 == 0) & (year%100 != 0):  \n",
    "                day = 29 \n",
    "            elif year%400 == 0:  \n",
    "                day = 29  \n",
    "            else:  \n",
    "                day = 28\n",
    "        if (month/10 < 1):\n",
    "            newmonth = \"0{}\".format(month)\n",
    "        else:\n",
    "            newmonth = month            \n",
    "        url = 'http://lishi.tianqi.com/shanghai/{}{}.html'.format(year,newmonth)\n",
    "        data = requests.get(url).text\n",
    "        for actday in range(1,day+1):  \n",
    "\n",
    "            db = pymysql.connect(\"localhost\",\"root\",\"xxxx\",\"forecast\",use_unicode=True, charset=\"utf8\")\n",
    "            cursor = db.cursor()           \n",
    "            s = etree.HTML(data)\n",
    "\n",
    "            high_tem = s.xpath('//*[@id=\"tool_site\"]/div[2]/ul[{}]/li[2]/text()'.format(actday+1))\n",
    "            if high_tem == []:\n",
    "                high = 0\n",
    "            else:\n",
    "                high = high_tem[0]\n",
    "            low_tem = s.xpath('//*[@id=\"tool_site\"]/div[2]/ul[{}]/li[3]/text()'.format(actday+1))\n",
    "            if low_tem == []:\n",
    "                low = 0\n",
    "            else:\n",
    "                low = low_tem[0]\n",
    "            condition = s.xpath('//*[@id=\"tool_site\"]/div[2]/ul[{}]/li[4]/text()'.format(actday+1))\n",
    "            if condition == []:\n",
    "                condition = \"\"\n",
    "            else:\n",
    "                con = condition[0]\n",
    "            date = \"{}年{}月{}日\".format(year,month,actday)\n",
    "            \n",
    "            sql = \"\"\"INSERT INTO shanghai values('{}','{}','{}','{}','{}')\"\"\".format(num,date,high,low,con)\n",
    "            num = num+1\n",
    "            try:\n",
    "               # 执行sql语句\n",
    "               cursor.execute(sql)\n",
    "               # 提交到数据库执行\n",
    "               db.commit()\n",
    "            except:\n",
    "                db.rollback()\n",
    "            db.close()\n"
   ]
  },
  {
   "cell_type": "code",
   "execution_count": null,
   "metadata": {},
   "outputs": [],
   "source": []
  }
 ],
 "metadata": {
  "kernelspec": {
   "display_name": "Python 3",
   "language": "python",
   "name": "python3"
  },
  "language_info": {
   "codemirror_mode": {
    "name": "ipython",
    "version": 3
   },
   "file_extension": ".py",
   "mimetype": "text/x-python",
   "name": "python",
   "nbconvert_exporter": "python",
   "pygments_lexer": "ipython3",
   "version": "3.6.4"
  }
 },
 "nbformat": 4,
 "nbformat_minor": 2
}
